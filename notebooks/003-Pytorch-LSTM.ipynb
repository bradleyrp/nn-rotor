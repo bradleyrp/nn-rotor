{
 "cells": [
  {
   "cell_type": "markdown",
   "id": "68933f15-76fe-470b-b796-46953234ce52",
   "metadata": {},
   "source": [
    "# ToDo\n",
    "добавить реальные роторы"
   ]
  },
  {
   "cell_type": "code",
   "execution_count": 1,
   "id": "836cb4d8-ecd0-4fac-ab22-afac4971642a",
   "metadata": {},
   "outputs": [],
   "source": [
    "import os\n",
    "from tqdm.auto import tqdm, trange\n",
    "import numpy as np\n",
    "import pandas as pd\n",
    "import matplotlib.pyplot as plt\n",
    "import plotly.express as px"
   ]
  },
  {
   "cell_type": "code",
   "execution_count": 2,
   "id": "44244856-e34a-46d9-a5f0-34784859edeb",
   "metadata": {},
   "outputs": [],
   "source": [
    "import torch\n",
    "import torch.nn as nn\n",
    "from torchsummary import summary\n",
    "from torch.utils.data import Dataset, DataLoader\n",
    "\n",
    "from sklearn.model_selection import train_test_split"
   ]
  },
  {
   "cell_type": "code",
   "execution_count": 3,
   "id": "92cafe5f-ff6c-4434-b1a6-4d2c96fc7bcc",
   "metadata": {},
   "outputs": [
    {
     "name": "stdout",
     "output_type": "stream",
     "text": [
      "mps\n"
     ]
    }
   ],
   "source": [
    "mps_is_ok = torch.backends.mps.is_built() and torch.backends.mps.is_available()\n",
    "device = torch.device('mps' if mps_is_ok else 'cpu')\n",
    "print(device)"
   ]
  },
  {
   "cell_type": "code",
   "execution_count": 4,
   "id": "4264fd64-3b05-4edf-9fd3-8a7b2eec17da",
   "metadata": {},
   "outputs": [],
   "source": [
    "device = torch.device(\"cpu\")"
   ]
  },
  {
   "cell_type": "markdown",
   "id": "4147e60f-70c3-49df-868c-3a09977f5b2a",
   "metadata": {},
   "source": [
    "# Dataset"
   ]
  },
  {
   "cell_type": "code",
   "execution_count": 5,
   "id": "f351c4e8-14a5-4709-ba19-5dae022c3acd",
   "metadata": {},
   "outputs": [],
   "source": [
    "def standardize(X, ϵ=1e-9):\n",
    "    # X : [BATCH x CHANNEL x LENGTH]\n",
    "    X_mean = X.mean(dim=2, keepdim=True)\n",
    "    X_std = X.std(dim=2, keepdim=True)\n",
    "    return (X - X_mean) / (X_std + ϵ)"
   ]
  },
  {
   "cell_type": "markdown",
   "id": "f1f591ee-5c71-4e6c-a82a-451744098499",
   "metadata": {
    "jp-MarkdownHeadingCollapsed": true,
    "tags": []
   },
   "source": [
    "## Real"
   ]
  },
  {
   "cell_type": "code",
   "execution_count": 5,
   "id": "896e400d-ee43-4e79-8cfa-47f62ae53b36",
   "metadata": {},
   "outputs": [],
   "source": [
    "def split_filename(filename):\n",
    "    # ex: M15-G3-S0-2.csv\n",
    "    h, g, s, i = filename.split(\"-\")\n",
    "    h, g, s = map(lambda x: int(x[1:]), [h, g, s])\n",
    "    i = int(i.split(\".\")[0])\n",
    "    return h, g, s, i"
   ]
  },
  {
   "cell_type": "code",
   "execution_count": 6,
   "id": "f11ba750-d135-4ae0-bb55-b6a60c77628a",
   "metadata": {},
   "outputs": [],
   "source": [
    "folder_dataset = \"/Users/andrey/Work/HPL/projects/rheeda/rotor-dataset/\"\n",
    "\n",
    "rows = []\n",
    "\n",
    "for filename in os.listdir(folder_dataset):\n",
    "    \n",
    "    h, g, s, i = split_filename(filename)\n",
    "    row = {\n",
    "        \"filename\": filename,\n",
    "        \"heart\": h,\n",
    "        \"group\": g,\n",
    "        \"stim\": s,\n",
    "        \"i\": i\n",
    "    }\n",
    "    rows.append(row)\n",
    "    \n",
    "df_dataset = pd.DataFrame(rows)"
   ]
  },
  {
   "cell_type": "code",
   "execution_count": 7,
   "id": "8ee60367-3216-4038-a6ce-ccd1759e9e8e",
   "metadata": {},
   "outputs": [],
   "source": [
    "mask_test = (df_dataset.heart == 13) & (df_dataset.group == 2)\n",
    "mask_test |= (df_dataset.heart == 15) & (df_dataset.group == 3)\n",
    "\n",
    "df_dataset[\"fold\"] = \"train\"\n",
    "df_dataset.loc[mask_test, \"fold\"] = \"test\""
   ]
  },
  {
   "cell_type": "code",
   "execution_count": 8,
   "id": "6d441ca6-f75d-49c1-8660-685fcaef1c23",
   "metadata": {},
   "outputs": [],
   "source": [
    "class RotorDataset(Dataset):\n",
    "    \n",
    "    def __init__(\n",
    "        self,\n",
    "        folder_dataset,\n",
    "        df_dataset,\n",
    "        window_size=256,\n",
    "        window_step=None,\n",
    "        columns=None\n",
    "    ):\n",
    "        \n",
    "        self.window_size = window_size\n",
    "        self.window_step = window_size if window_step is None else window_step\n",
    "\n",
    "        self.X = []\n",
    "        self.Y = []\n",
    "        \n",
    "        df_concat = []        \n",
    "        columns_xyz = [\"x\", \"y\", \"z\"]\n",
    "        \n",
    "        for _, row in tqdm(list(df_dataset.iterrows())):\n",
    "            \n",
    "            filename = os.path.join(\n",
    "                folder_dataset,\n",
    "                row.filename\n",
    "            )\n",
    "        \n",
    "            df = pd.read_csv(filename)\n",
    "            df = df[::10]\n",
    "            \n",
    "            df[columns_xyz] -= df[columns_xyz].iloc[0]\n",
    "            \n",
    "            if len(df_concat):\n",
    "                df_last = df_concat[-1]\n",
    "                df[columns_xyz] += df_last[columns_xyz].iloc[-1]\n",
    "                \n",
    "            df_concat.append(df)\n",
    "            \n",
    "        df_concat = pd.concat(df_concat, ignore_index=True)\n",
    "        proba = df_concat[\"class\"]\n",
    "            \n",
    "        for i in trange(0, len(df_concat) - self.window_size, self.window_step):                    \n",
    "            x = df_concat[columns_xyz][i: i + window_size].values.T\n",
    "            y = proba[i: i + window_size]\n",
    "            self.X.append(x)        \n",
    "            self.Y.append(y)\n",
    "                \n",
    "        self.N = len(self.X)\n",
    "\n",
    "        self.X = np.stack(self.X)\n",
    "        self.X = torch.tensor(self.X, dtype=torch.float32)\n",
    "        \n",
    "        self.Y = np.stack(self.Y)\n",
    "        self.Y = torch.tensor(self.Y, dtype=torch.float32)\n",
    "        # self.Y = nn.functional.one_hot(self.Y).float()\n",
    "        \n",
    "        self.df_concat = df_concat\n",
    "                \n",
    "    def __len__(self):\n",
    "        return self.N\n",
    "\n",
    "    def __getitem__(self, idx):\n",
    "        x = self.X[idx]\n",
    "        y = self.Y[idx]\n",
    "        return x, y"
   ]
  },
  {
   "cell_type": "code",
   "execution_count": 9,
   "id": "38bc4147-d3a0-4fb0-907c-5c203e033bc8",
   "metadata": {},
   "outputs": [
    {
     "data": {
      "application/vnd.jupyter.widget-view+json": {
       "model_id": "30e1ff8efc534e5da29a07b8e83346b8",
       "version_major": 2,
       "version_minor": 0
      },
      "text/plain": [
       "  0%|          | 0/170 [00:00<?, ?it/s]"
      ]
     },
     "metadata": {},
     "output_type": "display_data"
    },
    {
     "data": {
      "application/vnd.jupyter.widget-view+json": {
       "model_id": "24694fa49aef4dd9bf3b8ab01ed7a590",
       "version_major": 2,
       "version_minor": 0
      },
      "text/plain": [
       "  0%|          | 0/2291 [00:00<?, ?it/s]"
      ]
     },
     "metadata": {},
     "output_type": "display_data"
    }
   ],
   "source": [
    "WINDOW_SIZE = 64\n",
    "\n",
    "dataset_train = RotorDataset(\n",
    "    folder_dataset, \n",
    "    df_dataset[df_dataset.fold == \"train\"],\n",
    "    window_size=WINDOW_SIZE,\n",
    "    window_step=WINDOW_SIZE // 2\n",
    ")"
   ]
  },
  {
   "cell_type": "code",
   "execution_count": 10,
   "id": "9b0dffca-9dba-497e-9c78-d740be68c8db",
   "metadata": {},
   "outputs": [
    {
     "data": {
      "application/vnd.jupyter.widget-view+json": {
       "model_id": "fadf1d6d752e4adaaa42e350bafe69bb",
       "version_major": 2,
       "version_minor": 0
      },
      "text/plain": [
       "  0%|          | 0/69 [00:00<?, ?it/s]"
      ]
     },
     "metadata": {},
     "output_type": "display_data"
    },
    {
     "data": {
      "application/vnd.jupyter.widget-view+json": {
       "model_id": "c96436ba44d140febba1ddc9139e3a46",
       "version_major": 2,
       "version_minor": 0
      },
      "text/plain": [
       "  0%|          | 0/904 [00:00<?, ?it/s]"
      ]
     },
     "metadata": {},
     "output_type": "display_data"
    }
   ],
   "source": [
    "dataset_test = RotorDataset(\n",
    "    folder_dataset, \n",
    "    df_dataset[df_dataset.fold == \"test\"],\n",
    "    window_size=WINDOW_SIZE,\n",
    "    window_step=WINDOW_SIZE // 2\n",
    ")"
   ]
  },
  {
   "cell_type": "markdown",
   "id": "d30b9b0d-4036-4d06-a81f-a26cc9fceeaa",
   "metadata": {},
   "source": [
    "## Synthetic"
   ]
  },
  {
   "cell_type": "code",
   "execution_count": 6,
   "id": "72df4034-31ba-4046-809e-5ffc46959feb",
   "metadata": {},
   "outputs": [],
   "source": [
    "filename = \"../data/synthetic-latest.csv\"\n",
    "df = pd.read_csv(filename)"
   ]
  },
  {
   "cell_type": "code",
   "execution_count": 7,
   "id": "c0aee1da-3e71-487a-a9d7-77a46872aec5",
   "metadata": {},
   "outputs": [
    {
     "data": {
      "text/plain": [
       "<matplotlib.collections.PathCollection at 0x146df3f40>"
      ]
     },
     "execution_count": 7,
     "metadata": {},
     "output_type": "execute_result"
    },
    {
     "data": {
      "image/png": "[encoded data removed]",
      "text/plain": [
       "<Figure size 432x288 with 1 Axes>"
      ]
     },
     "metadata": {
      "needs_background": "light"
     },
     "output_type": "display_data"
    }
   ],
   "source": [
    "plt.scatter(df.index[:1_000], df.y[:1_000], c=df[\"proba\"][:1_000])"
   ]
  },
  {
   "cell_type": "code",
   "execution_count": 8,
   "id": "5d4bf32e-0641-4e24-88a8-bc650a2bd83b",
   "metadata": {},
   "outputs": [],
   "source": [
    "def create_markup(df, α=1.5):\n",
    "    counts = df.proba.value_counts()\n",
    "    counts = (counts * 10 / counts.index > α) & (counts.index > 0)\n",
    "    counts = counts.astype(float)\n",
    "    result = df.copy()\n",
    "    result.proba.replace(counts, inplace=True)\n",
    "    return result"
   ]
  },
  {
   "cell_type": "code",
   "execution_count": 9,
   "id": "ed3dc0db-9bff-413f-96ce-9f6a31195123",
   "metadata": {},
   "outputs": [],
   "source": [
    "class RotorDataset(Dataset):\n",
    "    \n",
    "    def __init__(\n",
    "        self,\n",
    "        df,\n",
    "        window_size=256,\n",
    "        window_step=None\n",
    "    ):\n",
    "        \n",
    "        self.window_size = window_size\n",
    "        self.window_step = window_size if window_step is None else window_step\n",
    "\n",
    "        self.X = []\n",
    "        self.Y = []\n",
    "        \n",
    "        columns_xyz = [\"x\", \"y\", \"z\"]\n",
    "        proba = df[\"proba\"]\n",
    "        self.df = df\n",
    "            \n",
    "        for i in trange(\n",
    "            0,\n",
    "            len(df) - self.window_size,\n",
    "            self.window_step\n",
    "        ):       \n",
    "            df_window = df[i: i + window_size]\n",
    "            df_window = create_markup(df_window)\n",
    "            x = df_window[columns_xyz].values.T\n",
    "            y = df_window[\"proba\"]\n",
    "            self.X.append(x)        \n",
    "            self.Y.append(y)\n",
    "                \n",
    "        self.N = len(self.X)\n",
    "\n",
    "        self.X = np.stack(self.X)\n",
    "        self.X = torch.tensor(self.X, dtype=torch.float32)\n",
    "        \n",
    "        self.X = standardize(self.X)\n",
    "        \n",
    "        self.Y = np.stack(self.Y)\n",
    "        self.Y = torch.tensor(self.Y, dtype=torch.float32)\n",
    "        # self.Y = nn.functional.one_hot(self.Y).float()\n",
    "                        \n",
    "    def __len__(self):\n",
    "        return self.N\n",
    "\n",
    "    def __getitem__(self, idx):\n",
    "        x = self.X[idx]\n",
    "        y = self.Y[idx]\n",
    "        return x, y"
   ]
  },
  {
   "cell_type": "code",
   "execution_count": 10,
   "id": "67890d8b-8d98-44e7-9fbf-23f5cd3bb4f4",
   "metadata": {},
   "outputs": [],
   "source": [
    "# df = df[:4096]"
   ]
  },
  {
   "cell_type": "code",
   "execution_count": 11,
   "id": "0bb2b693-f346-4204-99ff-8886cbece089",
   "metadata": {},
   "outputs": [
    {
     "data": {
      "application/vnd.jupyter.widget-view+json": {
       "model_id": "304ed9018a0b4bf288bde1ea157ee938",
       "version_major": 2,
       "version_minor": 0
      },
      "text/plain": [
       "  0%|          | 0/1880 [00:00<?, ?it/s]"
      ]
     },
     "metadata": {},
     "output_type": "display_data"
    },
    {
     "data": {
      "application/vnd.jupyter.widget-view+json": {
       "model_id": "b1c0fd704512438b82667a91bb6b8ef5",
       "version_major": 2,
       "version_minor": 0
      },
      "text/plain": [
       "  0%|          | 0/467 [00:00<?, ?it/s]"
      ]
     },
     "metadata": {},
     "output_type": "display_data"
    }
   ],
   "source": [
    "i_train = len(df) * 8 // 10\n",
    "WINDOW_SIZE = 256\n",
    "WINSOW_STEP = WINDOW_SIZE // 4\n",
    "dataset_train = RotorDataset(\n",
    "    # pd.concat([df[:i_train], df[:i_train][:-1]]),\n",
    "    df[:i_train],\n",
    "    window_size=WINDOW_SIZE,\n",
    "    window_step=WINSOW_STEP\n",
    ")\n",
    "\n",
    "dataset_test = RotorDataset(\n",
    "    # pd.concat([df[i_train:], df[i_train:][::-1]]),\n",
    "    df[i_train:],\n",
    "    window_size=WINDOW_SIZE,\n",
    "    window_step=WINSOW_STEP\n",
    ")"
   ]
  },
  {
   "cell_type": "code",
   "execution_count": 12,
   "id": "d0d87ae8-f662-48a8-b7a5-39a2bee8656c",
   "metadata": {},
   "outputs": [],
   "source": [
    "dataset_train.X += torch.rand_like(dataset_train.X) / 10\n",
    "dataset_test.X += torch.rand_like(dataset_test.X) / 10"
   ]
  },
  {
   "cell_type": "code",
   "execution_count": 13,
   "id": "0559c5ea-5f2d-4758-a48c-c3fbb4c036be",
   "metadata": {},
   "outputs": [
    {
     "data": {
      "text/plain": [
       "torch.Size([1880, 3, 256])"
      ]
     },
     "execution_count": 13,
     "metadata": {},
     "output_type": "execute_result"
    }
   ],
   "source": [
    "dataset_train.X.shape"
   ]
  },
  {
   "cell_type": "code",
   "execution_count": 14,
   "id": "1507e737-04b1-41f8-b81e-580481bfb802",
   "metadata": {},
   "outputs": [
    {
     "data": {
      "text/plain": [
       "torch.Size([1880, 256])"
      ]
     },
     "execution_count": 14,
     "metadata": {},
     "output_type": "execute_result"
    }
   ],
   "source": [
    "dataset_train.Y.shape"
   ]
  },
  {
   "cell_type": "code",
   "execution_count": 15,
   "id": "fea5ac79-de84-4a41-ab2b-290134c0160f",
   "metadata": {},
   "outputs": [],
   "source": [
    "x, y = dataset_train[32]"
   ]
  },
  {
   "cell_type": "code",
   "execution_count": 16,
   "id": "66f2e985-5692-4733-a2d1-2b4a54f9ee7f",
   "metadata": {},
   "outputs": [
    {
     "data": {
      "text/plain": [
       "<matplotlib.collections.PathCollection at 0x146f21a90>"
      ]
     },
     "execution_count": 16,
     "metadata": {},
     "output_type": "execute_result"
    },
    {
     "data": {
      "image/png": "[encoded data removed]",
      "text/plain": [
       "<Figure size 432x288 with 1 Axes>"
      ]
     },
     "metadata": {
      "needs_background": "light"
     },
     "output_type": "display_data"
    }
   ],
   "source": [
    "plt.scatter(x[0], x[1], c=y, vmin=0, vmax=1)"
   ]
  },
  {
   "cell_type": "code",
   "execution_count": 17,
   "id": "a786f403-78b6-4f39-a2b1-65b276d5091a",
   "metadata": {},
   "outputs": [
    {
     "data": {
      "text/plain": [
       "[<matplotlib.lines.Line2D at 0x146e34d30>]"
      ]
     },
     "execution_count": 17,
     "metadata": {},
     "output_type": "execute_result"
    },
    {
     "data": {
      "image/png": "[encoded data removed]",
      "text/plain": [
       "<Figure size 432x288 with 1 Axes>"
      ]
     },
     "metadata": {
      "needs_background": "light"
     },
     "output_type": "display_data"
    }
   ],
   "source": [
    "plt.plot(x[1])"
   ]
  },
  {
   "cell_type": "code",
   "execution_count": 18,
   "id": "d979dc0a-cb29-41ea-8a8a-878a52947181",
   "metadata": {},
   "outputs": [],
   "source": [
    "batch_size = 128\n",
    "train_dataloader = DataLoader(dataset_train, batch_size=batch_size, shuffle=True)\n",
    "test_dataloader = DataLoader(dataset_test, batch_size=batch_size, shuffle=False)"
   ]
  },
  {
   "cell_type": "markdown",
   "id": "841e7c1f-0b5c-4453-9b79-1a9ba4d437f3",
   "metadata": {},
   "source": [
    "# Model"
   ]
  },
  {
   "cell_type": "code",
   "execution_count": 19,
   "id": "808b73c6-1a9d-4c05-a6dc-534e0450e264",
   "metadata": {},
   "outputs": [],
   "source": [
    "def label_smoothing(y, α=0.):\n",
    "    return y * (1 - α) + α / 2"
   ]
  },
  {
   "cell_type": "code",
   "execution_count": 73,
   "id": "d8fa837c-0d7b-419e-b39f-ba2dc334df88",
   "metadata": {},
   "outputs": [],
   "source": [
    "class Model(nn.Module):\n",
    "    \n",
    "    def __init__(self, **params):\n",
    "        super().__init__()\n",
    "        \n",
    "        input_size = params.get(\"input_size\", 3)\n",
    "        hidden_size = params.get(\"hidden_size\", 16)\n",
    "        bidirectional = params.get(\"bidirectional\", False)\n",
    "        kernel_size = params.get(\"kernel_size\", 7)\n",
    "        \n",
    "        self.cnn = nn.Sequential(\n",
    "            \n",
    "            nn.Conv1d(input_size, hidden_size, padding=\"same\", kernel_size=kernel_size),\n",
    "            nn.BatchNorm1d(hidden_size),      \n",
    "            nn.ReLU(),\n",
    "            nn.MaxPool1d(2),\n",
    "            \n",
    "            nn.Conv1d(hidden_size, 1, padding=\"same\", kernel_size=kernel_size),\n",
    "            nn.BatchNorm1d(1),      \n",
    "            nn.Sigmoid(),\n",
    "            nn.MaxPool1d(2)\n",
    "            \n",
    "        )\n",
    "        \n",
    "        self.rnn = nn.LSTM(\n",
    "            # input_size=input_size,\n",
    "            input_size=hidden_size,\n",
    "            hidden_size=hidden_size,\n",
    "            bidirectional=bidirectional\n",
    "        )\n",
    "        \n",
    "        d = 2 if bidirectional else 1\n",
    "        \n",
    "        self.tail = nn.Sequential(\n",
    "            nn.Linear(hidden_size * d, 1),\n",
    "            nn.Sigmoid()\n",
    "        )\n",
    "\n",
    "    def forward(self, x):\n",
    "        \n",
    "        # x: B, C, L  ->  L, B, C\n",
    "        \n",
    "        x = self.cnn(x)\n",
    "        \n",
    "#         output, _ = self.rnn(\n",
    "#             torch.permute(x, (2, 0, 1))\n",
    "#         )\n",
    "        \n",
    "#         L, B, C = output.shape\n",
    "        \n",
    "#         y = self.tail(\n",
    "#             output.view(-1, C)\n",
    "#         ).view(B, L)\n",
    "        \n",
    "        x = x.squeeze()\n",
    "        y = x.repeat_interleave(4, dim=1)\n",
    "        \n",
    "        return y"
   ]
  },
  {
   "cell_type": "code",
   "execution_count": 74,
   "id": "2d0c00f2-2cde-4f16-8396-7b90548c8049",
   "metadata": {},
   "outputs": [
    {
     "data": {
      "text/plain": [
       "tensor([[0.9809, 0.6740, 0.6792],\n",
       "        [0.9845, 0.1494, 0.9969]])"
      ]
     },
     "execution_count": 74,
     "metadata": {},
     "output_type": "execute_result"
    }
   ],
   "source": [
    "torch.rand(1, 2, 3).squeeze()"
   ]
  },
  {
   "cell_type": "code",
   "execution_count": 75,
   "id": "40bd957f-e07b-4280-bdcd-aa3ca6e6d029",
   "metadata": {},
   "outputs": [
    {
     "data": {
      "text/plain": [
       "torch.Size([7, 256])"
      ]
     },
     "execution_count": 75,
     "metadata": {},
     "output_type": "execute_result"
    }
   ],
   "source": [
    "model = Model(bidirectional=True)\n",
    "model(torch.rand(7, 3, 256)).shape"
   ]
  },
  {
   "cell_type": "code",
   "execution_count": 76,
   "id": "af901a77-57ca-44b4-b3d4-c5149a084a3a",
   "metadata": {},
   "outputs": [],
   "source": [
    "x = dataset_train.X[:7]\n",
    "y = dataset_train.Y[:7]"
   ]
  },
  {
   "cell_type": "code",
   "execution_count": 77,
   "id": "3cedc76e-06b8-4dd5-aa7f-5aa03a66440c",
   "metadata": {},
   "outputs": [
    {
     "data": {
      "text/plain": [
       "torch.Size([7, 256])"
      ]
     },
     "execution_count": 77,
     "metadata": {},
     "output_type": "execute_result"
    }
   ],
   "source": [
    "y.shape"
   ]
  },
  {
   "cell_type": "code",
   "execution_count": 78,
   "id": "d66a2a8a-0b79-43f8-8fe6-0028b921b65d",
   "metadata": {},
   "outputs": [
    {
     "data": {
      "text/plain": [
       "torch.Size([7, 256])"
      ]
     },
     "execution_count": 78,
     "metadata": {},
     "output_type": "execute_result"
    }
   ],
   "source": [
    "y_pred = model(x)\n",
    "y_pred.shape"
   ]
  },
  {
   "cell_type": "code",
   "execution_count": 79,
   "id": "7cd805bb-fa24-495e-8675-7346d9d5f5d1",
   "metadata": {},
   "outputs": [
    {
     "data": {
      "text/plain": [
       "tensor(0.7254, grad_fn=<BinaryCrossEntropyBackward0>)"
      ]
     },
     "execution_count": 79,
     "metadata": {},
     "output_type": "execute_result"
    }
   ],
   "source": [
    "def calculate_loss(y_pred, y_true, α=0.):\n",
    "    return nn.functional.binary_cross_entropy(\n",
    "        y_pred,\n",
    "        label_smoothing(y_true, α)\n",
    "    )\n",
    "\n",
    "y_pred = model(x)\n",
    "calculate_loss(y_pred, y)"
   ]
  },
  {
   "cell_type": "code",
   "execution_count": 80,
   "id": "eb4661e9-a443-4477-8780-0813fa597431",
   "metadata": {},
   "outputs": [
    {
     "data": {
      "text/plain": [
       "torch.Size([7, 256])"
      ]
     },
     "execution_count": 80,
     "metadata": {},
     "output_type": "execute_result"
    }
   ],
   "source": [
    "y.shape"
   ]
  },
  {
   "cell_type": "code",
   "execution_count": 81,
   "id": "b89bbc34-ef9f-4cad-88a5-05c48840eef7",
   "metadata": {},
   "outputs": [
    {
     "data": {
      "text/plain": [
       "torch.Size([7, 256])"
      ]
     },
     "execution_count": 81,
     "metadata": {},
     "output_type": "execute_result"
    }
   ],
   "source": [
    "y_pred.shape"
   ]
  },
  {
   "cell_type": "code",
   "execution_count": 82,
   "id": "cbfa28d1-cf56-4f2b-9145-31b03afb07c4",
   "metadata": {},
   "outputs": [],
   "source": [
    "from sklearn.metrics import balanced_accuracy_score, accuracy_score\n",
    "\n",
    "def accuracy(y_pred, y_true, balanced=False):\n",
    "    # y_pred, y_true = trim(y_pred, y_true)\n",
    "    f = balanced_accuracy_score if balanced else accuracy_score\n",
    "    return f(\n",
    "        (y_true.to(\"cpu\") > 0.5).int().flatten(),\n",
    "        (y_pred.to(\"cpu\") > 0.5).int().flatten()\n",
    "    )"
   ]
  },
  {
   "cell_type": "code",
   "execution_count": 83,
   "id": "57d9a76a-cc55-4d69-ab20-add3e89939ae",
   "metadata": {},
   "outputs": [
    {
     "data": {
      "text/plain": [
       "0.5379464285714286"
      ]
     },
     "execution_count": 83,
     "metadata": {},
     "output_type": "execute_result"
    }
   ],
   "source": [
    "accuracy(y_pred, y)"
   ]
  },
  {
   "cell_type": "markdown",
   "id": "fdc4313a-2e08-42f5-84ab-91118f1f4d5f",
   "metadata": {},
   "source": [
    "# Train"
   ]
  },
  {
   "cell_type": "code",
   "execution_count": 84,
   "id": "1fd79e0d-7f48-4239-a2ad-cc8272f00774",
   "metadata": {},
   "outputs": [],
   "source": [
    "def train_model(model, dataloader):\n",
    "    \n",
    "    losses = []\n",
    "    scores = []\n",
    "    \n",
    "    model.train()\n",
    "\n",
    "    # for x, y in tqdm(dataset, leave=False, position=1):\n",
    "    for x, y in dataloader:\n",
    "        \n",
    "        x = x.to(device)\n",
    "        y = y.to(device)  \n",
    "        optimizer.zero_grad()\n",
    "        y_pred = model(x)\n",
    "        loss = calculate_loss(y_pred, y)     \n",
    "        loss.backward()\n",
    "        optimizer.step()\n",
    "\n",
    "        score = accuracy(y_pred, y)\n",
    "        \n",
    "        losses.append(loss.item())\n",
    "        scores.append(score)\n",
    "\n",
    "    loss = np.mean(losses)\n",
    "    score = np.mean(scores)\n",
    "        \n",
    "    return loss, score"
   ]
  },
  {
   "cell_type": "code",
   "execution_count": 85,
   "id": "747c3daf-1c02-4912-abda-036c1c434aa9",
   "metadata": {
    "tags": []
   },
   "outputs": [],
   "source": [
    "def test_model(model, dataloader):\n",
    "    \n",
    "    losses = []\n",
    "    scores = []\n",
    "    \n",
    "    with torch.no_grad():\n",
    "\n",
    "        model.eval()\n",
    "        \n",
    "        # for x, y in tqdm(dataset, leave=False, position=1):\n",
    "        for x, y in dataloader:\n",
    "            \n",
    "            x = x.to(device)\n",
    "            y = y.to(device)  \n",
    "                        \n",
    "            y_pred = model(x)\n",
    "            loss = calculate_loss(y_pred, y).item()\n",
    "            score = accuracy(y_pred, y)\n",
    "            \n",
    "            losses.append(loss)\n",
    "            scores.append(score)\n",
    "            \n",
    "    loss = np.mean(losses)\n",
    "    score = np.mean(scores)\n",
    "        \n",
    "    return loss, score"
   ]
  },
  {
   "cell_type": "code",
   "execution_count": 86,
   "id": "fd90d528-103e-441e-b50f-0b16ad62cb8b",
   "metadata": {
    "executionInfo": {
     "elapsed": 456,
     "status": "ok",
     "timestamp": 1644011037722,
     "user": {
      "displayName": "Andrey Pikunov",
      "photoUrl": "https://lh3.googleusercontent.com/a/default-user=s64",
      "userId": "11310439807377146211"
     },
     "user_tz": -180
    },
    "id": "3xeAf-AuVHb7"
   },
   "outputs": [],
   "source": [
    "def train_epoch(model, optimizer):\n",
    "    \n",
    "    objectives = {}\n",
    "    \n",
    "    # Train\n",
    "    \n",
    "    loss, score = train_model(model, train_dataloader)\n",
    "    objectives[\"loss_train\"] = loss\n",
    "    objectives[\"score_train\"] = score\n",
    "    \n",
    "    # Test\n",
    "\n",
    "    loss, score = test_model(model, test_dataloader)\n",
    "    objectives[\"loss_test\"] = loss\n",
    "    objectives[\"score_test\"] = score\n",
    "\n",
    "    return objectives"
   ]
  },
  {
   "cell_type": "markdown",
   "id": "6a01469f-27b6-476a-9561-85f17b9ff5e9",
   "metadata": {},
   "source": [
    "# Train"
   ]
  },
  {
   "cell_type": "code",
   "execution_count": 87,
   "id": "a45c20ef-d336-446f-8071-3da06a6b3786",
   "metadata": {},
   "outputs": [],
   "source": [
    "model = Model()"
   ]
  },
  {
   "cell_type": "code",
   "execution_count": 88,
   "id": "ba8e9b86-e90e-4c1f-aa89-f17688a89462",
   "metadata": {},
   "outputs": [],
   "source": [
    "optimizer = torch.optim.Adam(\n",
    "    model.parameters(),\n",
    "    lr=1e-3\n",
    ")"
   ]
  },
  {
   "cell_type": "code",
   "execution_count": 89,
   "id": "696ecce9-51bf-426e-8846-23f986cb71db",
   "metadata": {},
   "outputs": [],
   "source": [
    "model.to(device);"
   ]
  },
  {
   "cell_type": "code",
   "execution_count": 94,
   "id": "b9bfff25-9a9c-4502-aa23-48661c833b98",
   "metadata": {},
   "outputs": [
    {
     "data": {
      "application/vnd.jupyter.widget-view+json": {
       "model_id": "e9d7e70c5e924ca5981f0803be3854b1",
       "version_major": 2,
       "version_minor": 0
      },
      "text/plain": [
       "  0%|          | 0/30 [00:00<?, ?it/s]"
      ]
     },
     "metadata": {},
     "output_type": "display_data"
    }
   ],
   "source": [
    "filename_model_save = \"../models/rad-v3.0-arkit-latest.st\"\n",
    "score_test_best = 0.\n",
    "\n",
    "rows = []\n",
    "\n",
    "with trange(30) as t:\n",
    "    for epoch in t:\n",
    "        \n",
    "        objectives = train_epoch(model, optimizer)\n",
    "        rows.append(objectives)\n",
    "        \n",
    "        score_test = objectives[\"score_test\"]\n",
    "        if score_test > score_test_best:\n",
    "            score_test_best = score_test\n",
    "            # torch.save(model.state_dict(), filename_model_save)\n",
    "\n",
    "        t.set_postfix(\n",
    "            train=objectives[\"score_train\"],\n",
    "            test=score_test,\n",
    "            best=score_test_best\n",
    "        )"
   ]
  },
  {
   "cell_type": "code",
   "execution_count": 95,
   "id": "7b5aa6c3-9974-4d5b-be17-cd7204e399be",
   "metadata": {},
   "outputs": [],
   "source": [
    "df_progress = pd.DataFrame(rows)"
   ]
  },
  {
   "cell_type": "code",
   "execution_count": 96,
   "id": "ba5e5714-8a0f-44cc-b92f-0807f582ab39",
   "metadata": {
    "colab": {
     "base_uri": "https://localhost:8080/",
     "height": 297
    },
    "executionInfo": {
     "elapsed": 1875,
     "status": "ok",
     "timestamp": 1644011323907,
     "user": {
      "displayName": "Andrey Pikunov",
      "photoUrl": "https://lh3.googleusercontent.com/a/default-user=s64",
      "userId": "11310439807377146211"
     },
     "user_tz": -180
    },
    "id": "O6l444-tYIIF",
    "outputId": "eef65118-0e65-4ca3-af89-2939b37a535e",
    "tags": []
   },
   "outputs": [
    {
     "data": {
      "image/png": "[encoded data removed]",
      "text/plain": [
       "<Figure size 960x288 with 2 Axes>"
      ]
     },
     "metadata": {
      "needs_background": "light"
     },
     "output_type": "display_data"
    }
   ],
   "source": [
    "fig, axes = plt.subplots(ncols=2, figsize=plt.figaspect(0.3))\n",
    "\n",
    "for i, key in enumerate([\"loss\", \"score\"]):\n",
    "\n",
    "    ax = axes[i]\n",
    "    plt.sca(ax)\n",
    "\n",
    "    for t in \"test\", \"train\":\n",
    "        plt.plot(df_progress[f\"{key}_{t}\"], \".-\", label=t)\n",
    "\n",
    "    plt.legend()\n",
    "    # plt.yscale(\"log\")\n",
    "\n",
    "plt.tight_layout()"
   ]
  },
  {
   "cell_type": "code",
   "execution_count": 97,
   "id": "29756f83-a1ac-4782-9d3f-a52a18149ee8",
   "metadata": {},
   "outputs": [],
   "source": [
    "dataset = dataset_test\n",
    "# dataset = dataset_train\n",
    "\n",
    "y_pred = model(dataset.X).detach()\n",
    "y_true = dataset.Y"
   ]
  },
  {
   "cell_type": "code",
   "execution_count": 98,
   "id": "7299aba5-7ab0-4b60-a1ff-ca7f816c61d0",
   "metadata": {},
   "outputs": [
    {
     "data": {
      "text/plain": [
       "<matplotlib.collections.PathCollection at 0x157bf5580>"
      ]
     },
     "execution_count": 98,
     "metadata": {},
     "output_type": "execute_result"
    },
    {
     "data": {
      "image/png": "[encoded data removed]",
      "text/plain": [
       "<Figure size 432x288 with 1 Axes>"
      ]
     },
     "metadata": {
      "needs_background": "light"
     },
     "output_type": "display_data"
    }
   ],
   "source": [
    "i = 126\n",
    "\n",
    "x = dataset.X[i]\n",
    "t = np.arange(x.shape[-1])\n",
    "\n",
    "ix = 2\n",
    "\n",
    "mask = y_pred[i] > 0.5\n",
    "\n",
    "plt.scatter(t, x[ix], c=y_pred[i], vmin=0, vmax=1)\n",
    "plt.plot(t[mask], x[ix][mask], \"-k\", lw=2)\n",
    "\n",
    "plt.scatter(t, x[ix] - 2, c=y_true[i], vmin=0, vmax=1)"
   ]
  },
  {
   "cell_type": "code",
   "execution_count": 99,
   "id": "5b0bbc36-a292-4d45-a341-64ca4be2cda0",
   "metadata": {},
   "outputs": [
    {
     "data": {
      "text/plain": [
       "<matplotlib.collections.PathCollection at 0x146fbfee0>"
      ]
     },
     "execution_count": 99,
     "metadata": {},
     "output_type": "execute_result"
    },
    {
     "data": {
      "image/png": "[encoded data removed]",
      "text/plain": [
       "<Figure size 432x288 with 1 Axes>"
      ]
     },
     "metadata": {
      "needs_background": "light"
     },
     "output_type": "display_data"
    }
   ],
   "source": [
    "plt.scatter(x[0], x[2], c=y_pred[i], vmin=0, vmax=1)"
   ]
  },
  {
   "cell_type": "code",
   "execution_count": 100,
   "id": "ff580231-77f2-414b-be79-3ea73625a234",
   "metadata": {},
   "outputs": [
    {
     "data": {
      "text/plain": [
       "(-0.1, 1.1)"
      ]
     },
     "execution_count": 100,
     "metadata": {},
     "output_type": "execute_result"
    },
    {
     "data": {
      "image/png": "[encoded data removed]",
      "text/plain": [
       "<Figure size 432x288 with 1 Axes>"
      ]
     },
     "metadata": {
      "needs_background": "light"
     },
     "output_type": "display_data"
    }
   ],
   "source": [
    "plt.plot(y_pred[0])\n",
    "plt.plot(y_true[0])\n",
    "\n",
    "plt.ylim(-0.1, 1.1)"
   ]
  },
  {
   "cell_type": "code",
   "execution_count": null,
   "id": "feedcd9b-259c-4009-96df-d5eea731d4ee",
   "metadata": {},
   "outputs": [],
   "source": []
  }
 ],
 "metadata": {
  "kernelspec": {
   "display_name": "torch-nighty",
   "language": "python",
   "name": "torch-nighty"
  },
  "language_info": {
   "codemirror_mode": {
    "name": "ipython",
    "version": 3
   },
   "file_extension": ".py",
   "mimetype": "text/x-python",
   "name": "python",
   "nbconvert_exporter": "python",
   "pygments_lexer": "ipython3",
   "version": "3.8.13"
  }
 },
 "nbformat": 4,
 "nbformat_minor": 5
}
