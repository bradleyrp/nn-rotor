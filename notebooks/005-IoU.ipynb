{
 "cells": [
  {
   "cell_type": "code",
   "execution_count": 1,
   "id": "922c3412-4c3a-493e-8106-e3a3cbaa3dc9",
   "metadata": {},
   "outputs": [],
   "source": [
    "import numpy as np\n",
    "import pandas as pd"
   ]
  },
  {
   "cell_type": "code",
   "execution_count": 2,
   "id": "023ab623-959f-4bf1-887b-6da1d8fef443",
   "metadata": {},
   "outputs": [],
   "source": [
    "def find_split_indices(a):\n",
    "    pairs = []\n",
    "    i1 = 0\n",
    "    label = a[i1]\n",
    "    for i, x in enumerate(a[1:]):\n",
    "\n",
    "        if label != a[i]:\n",
    "            if label == 1:\n",
    "                pair = [i1, i]\n",
    "                pairs.append(pair)\n",
    "            i1 = i\n",
    "            label = a[i]\n",
    "\n",
    "    if label == 1:\n",
    "        pair = [i1, len(a)]\n",
    "        pairs.append(pair)\n",
    "    \n",
    "    return pairs"
   ]
  },
  {
   "cell_type": "code",
   "execution_count": 3,
   "id": "f85d6052-dd63-4253-bd8b-988e951bef78",
   "metadata": {},
   "outputs": [],
   "source": [
    "def IoU(pred, true):\n",
    "    \n",
    "    intersection = (pred & true).sum()\n",
    "    union = (pred | true).sum()\n",
    "\n",
    "    if intersection * union == 0:\n",
    "        iou = 0\n",
    "    else:\n",
    "        iou = (intersection / union).item()\n",
    "        \n",
    "    return iou"
   ]
  },
  {
   "cell_type": "code",
   "execution_count": 4,
   "id": "9d4b2272-0699-4ce8-8dbc-f01843ebc258",
   "metadata": {},
   "outputs": [],
   "source": [
    "a = np.array([1, 1, 0, 1, 1, 0, 0, 1, 1, 1, 1, 0, 0])\n",
    "b = np.array([0, 0, 0, 0, 1, 0, 1, 1, 1, 1, 0, 0, 0])"
   ]
  },
  {
   "cell_type": "code",
   "execution_count": 11,
   "id": "cdc4ffba-2317-434d-9d6d-5d493f5adb4c",
   "metadata": {},
   "outputs": [],
   "source": [
    "def calculate_metrics(a, b):\n",
    "    \n",
    "    pairs_a = find_split_indices(a)\n",
    "    pairs_b = find_split_indices(b)\n",
    "    \n",
    "    na = len(pairs_a)\n",
    "    nb = len(pairs_b)\n",
    "\n",
    "    rows = []\n",
    "\n",
    "    for pair_a in pairs_a:\n",
    "\n",
    "        i1, i2 = pair_a\n",
    "\n",
    "        match = True\n",
    "\n",
    "        row = {\n",
    "            \"ref\": False,\n",
    "            \"iou\": None,\n",
    "            \"offset\": None,\n",
    "            \"onset\": None,\n",
    "            \"intersection\": None,\n",
    "            \"union\": None,\n",
    "        }\n",
    "\n",
    "        for pair_b in pairs_b:\n",
    "\n",
    "            j1, j2 = pair_b\n",
    "\n",
    "            if j2 < i1:\n",
    "                continue\n",
    "\n",
    "            elif j1 > i2:\n",
    "                match = False\n",
    "                break\n",
    "\n",
    "            break\n",
    "\n",
    "        if not match:\n",
    "            rows.append(row)\n",
    "            continue\n",
    "\n",
    "        # row[\"ref\"] = ib\n",
    "\n",
    "        intersection = min(i2, j2) - max(i1, j1)\n",
    "        union = max(i2, j2) - min(j1, i1)\n",
    "\n",
    "        row[\"intersection\"] = intersection\n",
    "        row[\"union\"] = union\n",
    "\n",
    "        if intersection * union == 0:\n",
    "            iou = 0\n",
    "        else:\n",
    "            iou = intersection / union      \n",
    "\n",
    "        row[\"iou\"] = iou\n",
    "\n",
    "        onset = i1 - j1\n",
    "        offset = i2 - j2\n",
    "\n",
    "        row[\"onset\"] = onset\n",
    "        row[\"offset\"] = offset\n",
    "\n",
    "        rows.append(row)\n",
    "\n",
    "    df = pd.DataFrame(rows)\n",
    "\n",
    "    columns_metrics = [\"iou\", \"offset\", \"onset\"]\n",
    "\n",
    "    metrics = {\n",
    "        \"n_diff\": na - nb,\n",
    "        \n",
    "        \"iou_mean\": df[\"iou\"].mean(),\n",
    "        \"iou_std\": df[\"iou\"].std(),\n",
    "\n",
    "        \"offset_mean\": df[\"offset\"].mean(),\n",
    "        \"offset_std\": df[\"offset\"].std(),\n",
    "        \n",
    "        \"onset_mean\": df[\"onset\"].mean(),\n",
    "        \"onset_std\": df[\"onset\"].std()\n",
    "    }\n",
    "    \n",
    "    return metrics"
   ]
  },
  {
   "cell_type": "code",
   "execution_count": 12,
   "id": "984c2dcd-6e64-4b4a-b492-ba6e4a68e575",
   "metadata": {},
   "outputs": [
    {
     "data": {
      "text/plain": [
       "{'n_diff': 1,\n",
       " 'iou_mean': 0.55,\n",
       " 'iou_std': 0.07071067811865474,\n",
       " 'offset_mean': 0.5,\n",
       " 'offset_std': 0.7071067811865476,\n",
       " 'onset_mean': 0.0,\n",
       " 'onset_std': 1.4142135623730951}"
      ]
     },
     "execution_count": 12,
     "metadata": {},
     "output_type": "execute_result"
    }
   ],
   "source": [
    "calculate_metrics(a, b)"
   ]
  },
  {
   "cell_type": "code",
   "execution_count": null,
   "id": "82757b42-4e66-4e46-bdd0-004536bb4ec0",
   "metadata": {},
   "outputs": [],
   "source": []
  }
 ],
 "metadata": {
  "kernelspec": {
   "display_name": "torch-nighty",
   "language": "python",
   "name": "torch-nighty"
  },
  "language_info": {
   "codemirror_mode": {
    "name": "ipython",
    "version": 3
   },
   "file_extension": ".py",
   "mimetype": "text/x-python",
   "name": "python",
   "nbconvert_exporter": "python",
   "pygments_lexer": "ipython3",
   "version": "3.8.13"
  }
 },
 "nbformat": 4,
 "nbformat_minor": 5
}
